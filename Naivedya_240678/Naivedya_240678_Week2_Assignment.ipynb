{
  "nbformat": 4,
  "nbformat_minor": 0,
  "metadata": {
    "colab": {
      "provenance": []
    },
    "kernelspec": {
      "name": "python3",
      "display_name": "Python 3"
    },
    "language_info": {
      "name": "python"
    }
  },
  "cells": [
    {
      "cell_type": "markdown",
      "source": [
        "Grayscale Conversion\n",
        "\n",
        "Write a Python script to read an image named image.jpg, convert it to grayscale, and save the result as output_gray.jpg."
      ],
      "metadata": {
        "id": "5mTHZEqh-cdR"
      }
    },
    {
      "cell_type": "code",
      "execution_count": 2,
      "metadata": {
        "id": "MaPflrkW-Zto",
        "colab": {
          "base_uri": "https://localhost:8080/",
          "height": 176
        },
        "outputId": "98786604-e515-48d2-d175-3fbaf726e1bf"
      },
      "outputs": [
        {
          "output_type": "error",
          "ename": "error",
          "evalue": "OpenCV(4.10.0) /io/opencv/modules/imgcodecs/src/loadsave.cpp:798: error: (-215:Assertion failed) !_img.empty() in function 'imwrite'\n",
          "traceback": [
            "\u001b[0;31m---------------------------------------------------------------------------\u001b[0m",
            "\u001b[0;31merror\u001b[0m                                     Traceback (most recent call last)",
            "\u001b[0;32m<ipython-input-2-3b10565a8d0e>\u001b[0m in \u001b[0;36m<cell line: 4>\u001b[0;34m()\u001b[0m\n\u001b[1;32m      2\u001b[0m \u001b[0;32mimport\u001b[0m \u001b[0mcv2\u001b[0m \u001b[0;32mas\u001b[0m \u001b[0mcv\u001b[0m\u001b[0;34m\u001b[0m\u001b[0;34m\u001b[0m\u001b[0m\n\u001b[1;32m      3\u001b[0m \u001b[0mimage\u001b[0m\u001b[0;34m=\u001b[0m\u001b[0mcv\u001b[0m\u001b[0;34m.\u001b[0m\u001b[0mimread\u001b[0m\u001b[0;34m(\u001b[0m\u001b[0;34m\"image.jpg\"\u001b[0m\u001b[0;34m,\u001b[0m\u001b[0mcv\u001b[0m\u001b[0;34m.\u001b[0m\u001b[0mIMREAD_GRAYSCALE\u001b[0m\u001b[0;34m)\u001b[0m\u001b[0;34m\u001b[0m\u001b[0;34m\u001b[0m\u001b[0m\n\u001b[0;32m----> 4\u001b[0;31m \u001b[0mcv\u001b[0m\u001b[0;34m.\u001b[0m\u001b[0mimwrite\u001b[0m\u001b[0;34m(\u001b[0m\u001b[0;34m\"image.jpg\"\u001b[0m\u001b[0;34m,\u001b[0m\u001b[0mimage\u001b[0m\u001b[0;34m)\u001b[0m\u001b[0;34m\u001b[0m\u001b[0;34m\u001b[0m\u001b[0m\n\u001b[0m",
            "\u001b[0;31merror\u001b[0m: OpenCV(4.10.0) /io/opencv/modules/imgcodecs/src/loadsave.cpp:798: error: (-215:Assertion failed) !_img.empty() in function 'imwrite'\n"
          ]
        }
      ],
      "source": [
        "# Write your code here\n",
        "import cv2 as cv\n",
        "image=cv.imread(\"image.jpg\",cv.IMREAD_GRAYSCALE)\n",
        "cv.imwrite(\"output_gray.jpg\",image)"
      ]
    },
    {
      "cell_type": "markdown",
      "source": [
        "\n",
        "Grayscale Conversion.\n",
        "\n",
        "Write a Python script to read an image named image.jpg, convert it to grayscale, and save the result as output_gray.jpg."
      ],
      "metadata": {
        "id": "XKHxTSHk-m_O"
      }
    },
    {
      "cell_type": "code",
      "source": [
        "# Write your code here\n",
        "import cv2 as cv\n",
        "image=cv.imread(\"image.jpg\",cv.IMREAD_GRAYSCALE)\n",
        "cv.imwrite(\"output_gray.jpg\",image)"
      ],
      "metadata": {
        "id": "Zb2sLaXp-11r",
        "colab": {
          "base_uri": "https://localhost:8080/",
          "height": 176
        },
        "outputId": "0262d9bc-938a-4dc3-b79e-96b549371e81"
      },
      "execution_count": 3,
      "outputs": [
        {
          "output_type": "error",
          "ename": "error",
          "evalue": "OpenCV(4.10.0) /io/opencv/modules/imgcodecs/src/loadsave.cpp:798: error: (-215:Assertion failed) !_img.empty() in function 'imwrite'\n",
          "traceback": [
            "\u001b[0;31m---------------------------------------------------------------------------\u001b[0m",
            "\u001b[0;31merror\u001b[0m                                     Traceback (most recent call last)",
            "\u001b[0;32m<ipython-input-3-25823a32029f>\u001b[0m in \u001b[0;36m<cell line: 4>\u001b[0;34m()\u001b[0m\n\u001b[1;32m      2\u001b[0m \u001b[0;32mimport\u001b[0m \u001b[0mcv2\u001b[0m \u001b[0;32mas\u001b[0m \u001b[0mcv\u001b[0m\u001b[0;34m\u001b[0m\u001b[0;34m\u001b[0m\u001b[0m\n\u001b[1;32m      3\u001b[0m \u001b[0mimage\u001b[0m\u001b[0;34m=\u001b[0m\u001b[0mcv\u001b[0m\u001b[0;34m.\u001b[0m\u001b[0mimread\u001b[0m\u001b[0;34m(\u001b[0m\u001b[0;34m\"image.jpg\"\u001b[0m\u001b[0;34m,\u001b[0m\u001b[0mcv\u001b[0m\u001b[0;34m.\u001b[0m\u001b[0mIMREAD_GRAYSCALE\u001b[0m\u001b[0;34m)\u001b[0m\u001b[0;34m\u001b[0m\u001b[0;34m\u001b[0m\u001b[0m\n\u001b[0;32m----> 4\u001b[0;31m \u001b[0mcv\u001b[0m\u001b[0;34m.\u001b[0m\u001b[0mimwrite\u001b[0m\u001b[0;34m(\u001b[0m\u001b[0;34m\"output_gray.jpg\"\u001b[0m\u001b[0;34m,\u001b[0m\u001b[0mimage\u001b[0m\u001b[0;34m)\u001b[0m\u001b[0;34m\u001b[0m\u001b[0;34m\u001b[0m\u001b[0m\n\u001b[0m",
            "\u001b[0;31merror\u001b[0m: OpenCV(4.10.0) /io/opencv/modules/imgcodecs/src/loadsave.cpp:798: error: (-215:Assertion failed) !_img.empty() in function 'imwrite'\n"
          ]
        }
      ]
    },
    {
      "cell_type": "markdown",
      "source": [
        "Capture and Save Webcam Frames.\n",
        "\n",
        "Write a Python script using cv2.VideoCapture() to:\n",
        "1. Continuously capture video frames from your webcam.\n",
        "\n",
        "2. Display each frame in a window.\n",
        "\n",
        "3. Save every 30th frame as an image in a folder called frames."
      ],
      "metadata": {
        "id": "x8VlxABO-2A9"
      }
    },
    {
      "cell_type": "code",
      "source": [
        " # Write your code here.\n",
        "video=cv.VideoCapture(0)\n",
        "count=1\n",
        "while True:\n",
        "  isTrue,image=video.read()\n",
        "  cv.imshow(\"hello\",image)\n",
        "  if count%30==0:\n",
        "    cv.imwrite(f\"frame {count}.jpg\",image)\n",
        "  count+=1\n",
        "  cv.waitKey(0)\n",
        "\n",
        "  if cv.waitKey(0) and 0xFF==ord('F'):\n",
        "    break\n",
        "video.release()\n",
        "cv.destroyAllWindows()"
      ],
      "metadata": {
        "id": "ex9AgLXS_GN8",
        "colab": {
          "base_uri": "https://localhost:8080/",
          "height": 418
        },
        "outputId": "a068f914-eb1f-4847-c5b9-12184d5d3171"
      },
      "execution_count": 4,
      "outputs": [
        {
          "output_type": "error",
          "ename": "DisabledFunctionError",
          "evalue": "cv2.imshow() is disabled in Colab, because it causes Jupyter sessions\nto crash; see https://github.com/jupyter/notebook/issues/3935.\nAs a substitution, consider using\n  from google.colab.patches import cv2_imshow\n",
          "traceback": [
            "\u001b[0;31m---------------------------------------------------------------------------\u001b[0m",
            "\u001b[0;31mDisabledFunctionError\u001b[0m                     Traceback (most recent call last)",
            "\u001b[0;32m<ipython-input-4-c892c08d7d9c>\u001b[0m in \u001b[0;36m<cell line: 4>\u001b[0;34m()\u001b[0m\n\u001b[1;32m      4\u001b[0m \u001b[0;32mwhile\u001b[0m \u001b[0;32mTrue\u001b[0m\u001b[0;34m:\u001b[0m\u001b[0;34m\u001b[0m\u001b[0;34m\u001b[0m\u001b[0m\n\u001b[1;32m      5\u001b[0m  \u001b[0misTrue\u001b[0m\u001b[0;34m,\u001b[0m\u001b[0mimage\u001b[0m\u001b[0;34m=\u001b[0m\u001b[0mvideo\u001b[0m\u001b[0;34m.\u001b[0m\u001b[0mread\u001b[0m\u001b[0;34m(\u001b[0m\u001b[0;34m)\u001b[0m\u001b[0;34m\u001b[0m\u001b[0;34m\u001b[0m\u001b[0m\n\u001b[0;32m----> 6\u001b[0;31m  \u001b[0mcv\u001b[0m\u001b[0;34m.\u001b[0m\u001b[0mimshow\u001b[0m\u001b[0;34m(\u001b[0m\u001b[0;34m\"hello\"\u001b[0m\u001b[0;34m,\u001b[0m\u001b[0mimage\u001b[0m\u001b[0;34m)\u001b[0m\u001b[0;34m\u001b[0m\u001b[0;34m\u001b[0m\u001b[0m\n\u001b[0m\u001b[1;32m      7\u001b[0m  \u001b[0;32mif\u001b[0m \u001b[0mcount\u001b[0m\u001b[0;34m%\u001b[0m\u001b[0;36m30\u001b[0m\u001b[0;34m==\u001b[0m\u001b[0;36m0\u001b[0m\u001b[0;34m:\u001b[0m\u001b[0;34m\u001b[0m\u001b[0;34m\u001b[0m\u001b[0m\n\u001b[1;32m      8\u001b[0m    \u001b[0mcv\u001b[0m\u001b[0;34m.\u001b[0m\u001b[0mimwrite\u001b[0m\u001b[0;34m(\u001b[0m\u001b[0;34mf\"frame {count}.jpg\"\u001b[0m\u001b[0;34m,\u001b[0m\u001b[0mimage\u001b[0m\u001b[0;34m)\u001b[0m\u001b[0;34m\u001b[0m\u001b[0;34m\u001b[0m\u001b[0m\n",
            "\u001b[0;32m/usr/local/lib/python3.10/dist-packages/google/colab/_import_hooks/_cv2.py\u001b[0m in \u001b[0;36mwrapped\u001b[0;34m(*args, **kwargs)\u001b[0m\n\u001b[1;32m     46\u001b[0m   \u001b[0;32mdef\u001b[0m \u001b[0mwrapped\u001b[0m\u001b[0;34m(\u001b[0m\u001b[0;34m*\u001b[0m\u001b[0margs\u001b[0m\u001b[0;34m,\u001b[0m \u001b[0;34m**\u001b[0m\u001b[0mkwargs\u001b[0m\u001b[0;34m)\u001b[0m\u001b[0;34m:\u001b[0m\u001b[0;34m\u001b[0m\u001b[0;34m\u001b[0m\u001b[0m\n\u001b[1;32m     47\u001b[0m     \u001b[0;32mif\u001b[0m \u001b[0;32mnot\u001b[0m \u001b[0mos\u001b[0m\u001b[0;34m.\u001b[0m\u001b[0menviron\u001b[0m\u001b[0;34m.\u001b[0m\u001b[0mget\u001b[0m\u001b[0;34m(\u001b[0m\u001b[0menv_var\u001b[0m\u001b[0;34m,\u001b[0m \u001b[0;32mFalse\u001b[0m\u001b[0;34m)\u001b[0m\u001b[0;34m:\u001b[0m\u001b[0;34m\u001b[0m\u001b[0;34m\u001b[0m\u001b[0m\n\u001b[0;32m---> 48\u001b[0;31m       \u001b[0;32mraise\u001b[0m \u001b[0mDisabledFunctionError\u001b[0m\u001b[0;34m(\u001b[0m\u001b[0mmessage\u001b[0m\u001b[0;34m,\u001b[0m \u001b[0mname\u001b[0m \u001b[0;32mor\u001b[0m \u001b[0mfunc\u001b[0m\u001b[0;34m.\u001b[0m\u001b[0m__name__\u001b[0m\u001b[0;34m)\u001b[0m\u001b[0;34m\u001b[0m\u001b[0;34m\u001b[0m\u001b[0m\n\u001b[0m\u001b[1;32m     49\u001b[0m     \u001b[0;32mreturn\u001b[0m \u001b[0mfunc\u001b[0m\u001b[0;34m(\u001b[0m\u001b[0;34m*\u001b[0m\u001b[0margs\u001b[0m\u001b[0;34m,\u001b[0m \u001b[0;34m**\u001b[0m\u001b[0mkwargs\u001b[0m\u001b[0;34m)\u001b[0m\u001b[0;34m\u001b[0m\u001b[0;34m\u001b[0m\u001b[0m\n\u001b[1;32m     50\u001b[0m \u001b[0;34m\u001b[0m\u001b[0m\n",
            "\u001b[0;31mDisabledFunctionError\u001b[0m: cv2.imshow() is disabled in Colab, because it causes Jupyter sessions\nto crash; see https://github.com/jupyter/notebook/issues/3935.\nAs a substitution, consider using\n  from google.colab.patches import cv2_imshow\n"
          ],
          "errorDetails": {
            "actions": [
              {
                "action": "open_snippet",
                "actionText": "Search Snippets for cv2.imshow",
                "snippetFilter": "cv2.imshow"
              }
            ]
          }
        }
      ]
    },
    {
      "cell_type": "markdown",
      "source": [
        "Write a Python script to perform the following tasks:\n",
        "\n",
        "1. Rotate an image named image.jpg by 90 degrees clockwise and save the result as rotated_image.jpg.\n",
        "\n",
        "\n",
        "2. Crop a central 200x200 region from the same image (original size is 800x600 pixels) and save it as cropped_image.jpg."
      ],
      "metadata": {
        "id": "2TLPG4qL_Gan"
      }
    },
    {
      "cell_type": "code",
      "source": [
        " # Write your code here.\n",
        "image=cv.imread(\"image.jpg\")\n",
        "height,width=image.shape[:2]\n",
        "center=(width/2,height/2)\n",
        "rotation_matrix=cv.getRotationMatrix2D(center,-90,1.0)\n",
        "rotated_image=cv.warpAffine(image,rotation_matrix,(width,height))\n",
        "cv.imwrite(\"rotated_image.jpg\",rotated_image)\n",
        "\n",
        "cropped=image[200:400,300:500]\n",
        "cv.imwrite(\"cropped_image.jpg\",cropped)"
      ],
      "metadata": {
        "id": "xrumakIS_18v",
        "colab": {
          "base_uri": "https://localhost:8080/",
          "height": 211
        },
        "outputId": "48f19c5b-edf1-428c-836e-dc7c9854305b"
      },
      "execution_count": 5,
      "outputs": [
        {
          "output_type": "error",
          "ename": "AttributeError",
          "evalue": "'NoneType' object has no attribute 'shape'",
          "traceback": [
            "\u001b[0;31m---------------------------------------------------------------------------\u001b[0m",
            "\u001b[0;31mAttributeError\u001b[0m                            Traceback (most recent call last)",
            "\u001b[0;32m<ipython-input-5-adb8f40eb522>\u001b[0m in \u001b[0;36m<cell line: 2>\u001b[0;34m()\u001b[0m\n\u001b[1;32m      1\u001b[0m \u001b[0;31m# Write your code here.\u001b[0m\u001b[0;34m\u001b[0m\u001b[0;34m\u001b[0m\u001b[0m\n\u001b[0;32m----> 2\u001b[0;31m \u001b[0mheight\u001b[0m\u001b[0;34m,\u001b[0m\u001b[0mwidth\u001b[0m\u001b[0;34m=\u001b[0m\u001b[0mimage\u001b[0m\u001b[0;34m.\u001b[0m\u001b[0mshape\u001b[0m\u001b[0;34m[\u001b[0m\u001b[0;34m:\u001b[0m\u001b[0;36m2\u001b[0m\u001b[0;34m]\u001b[0m\u001b[0;34m\u001b[0m\u001b[0;34m\u001b[0m\u001b[0m\n\u001b[0m\u001b[1;32m      3\u001b[0m \u001b[0mcenter\u001b[0m\u001b[0;34m=\u001b[0m\u001b[0;34m(\u001b[0m\u001b[0mwidth\u001b[0m\u001b[0;34m/\u001b[0m\u001b[0;36m2\u001b[0m\u001b[0;34m,\u001b[0m\u001b[0mheight\u001b[0m\u001b[0;34m/\u001b[0m\u001b[0;36m2\u001b[0m\u001b[0;34m)\u001b[0m\u001b[0;34m\u001b[0m\u001b[0;34m\u001b[0m\u001b[0m\n\u001b[1;32m      4\u001b[0m \u001b[0mrotation_matrix\u001b[0m\u001b[0;34m=\u001b[0m\u001b[0mcv\u001b[0m\u001b[0;34m.\u001b[0m\u001b[0mgetRotationMatrix2D\u001b[0m\u001b[0;34m(\u001b[0m\u001b[0mcenter\u001b[0m\u001b[0;34m,\u001b[0m\u001b[0;34m-\u001b[0m\u001b[0;36m90\u001b[0m\u001b[0;34m,\u001b[0m\u001b[0;36m1.0\u001b[0m\u001b[0;34m)\u001b[0m\u001b[0;34m\u001b[0m\u001b[0;34m\u001b[0m\u001b[0m\n\u001b[1;32m      5\u001b[0m \u001b[0mrotated_image\u001b[0m\u001b[0;34m=\u001b[0m\u001b[0mcv\u001b[0m\u001b[0;34m.\u001b[0m\u001b[0mwarpAffine\u001b[0m\u001b[0;34m(\u001b[0m\u001b[0mimage\u001b[0m\u001b[0;34m,\u001b[0m\u001b[0mrotation_matrix\u001b[0m\u001b[0;34m,\u001b[0m\u001b[0;34m(\u001b[0m\u001b[0mwidth\u001b[0m\u001b[0;34m,\u001b[0m\u001b[0mheight\u001b[0m\u001b[0;34m)\u001b[0m\u001b[0;34m)\u001b[0m\u001b[0;34m\u001b[0m\u001b[0;34m\u001b[0m\u001b[0m\n",
            "\u001b[0;31mAttributeError\u001b[0m: 'NoneType' object has no attribute 'shape'"
          ]
        }
      ]
    },
    {
      "cell_type": "markdown",
      "source": [
        "Canny Edge Detection in Video\n",
        "\n",
        "Write a Python program to:\n",
        "\n",
        "Capture video frames continuously for 10 seconds.\n",
        "\n",
        "Apply the Canny edge detection algorithm to each frame.\n",
        "\n",
        "Display the original frame and its edges side by side in a single window.\n",
        "\n",
        "Stop capturing when the user presses the 'q' key."
      ],
      "metadata": {
        "id": "vWzqg01C_2G4"
      }
    },
    {
      "cell_type": "code",
      "source": [
        " # Write your code here.\n",
        "import time\n",
        "capture=cv.VideoCapture(0)\n",
        "start_time=time.time()\n",
        "while True and (time.time()-start_time)<= 10:\n",
        "  isTrue,image=capture.read() #doubt how to produce them in a single window\n",
        "  canny=cv.Canny(image,125,125)\n",
        "  cv.imshow(\"Hello\",image)\n",
        "  cv.imshow(\"Canny\",canny)\n",
        "  cv.waitKey(3)\n",
        "  if cv.waitKey(0) and 0xFF==ord('q'):\n",
        "    break\n",
        "capture.release()\n",
        "cv.destroyAllWindows()"
      ],
      "metadata": {
        "id": "ZW4uyco4ACP2"
      },
      "execution_count": null,
      "outputs": []
    },
    {
      "cell_type": "markdown",
      "source": [
        "Gaussian Blurring\n",
        "\n",
        "Write a Python script to Read an image named image.jpg Apply a Gaussian blur with a kernel size of 5x5 Save the blurred image as gaussian_blur.jpg."
      ],
      "metadata": {
        "id": "X3lImf4FAC4B"
      }
    },
    {
      "cell_type": "code",
      "source": [
        " # Write your code here.\n",
        " img=cv.imread(\"image.jpg\")\n",
        " blur=cv.GaussianBlur(img,(5,5),cv.BORDER_DEFAULT)\n",
        " cv.imwrite(\"gaussian_blur.jpg\",blur)"
      ],
      "metadata": {
        "id": "xC9VQ6_kAapt"
      },
      "execution_count": null,
      "outputs": []
    },
    {
      "cell_type": "markdown",
      "source": [
        "Draw Shapes on Images\n",
        "\n",
        "Write a Python script to:\n",
        "    Read an image named image.jpg.\n",
        "    Draw the following on the image:\n",
        "        A blue circle with a radius of 50 pixels at the center.\n",
        "        A green rectangle of size 100x50 pixels in the bottom-right corner.\n",
        "    Save the modified image as shapes_drawn.jpg."
      ],
      "metadata": {
        "id": "BQpzAKfPAa9C"
      }
    },
    {
      "cell_type": "code",
      "source": [
        "# Write your code here.\n",
        "img=cv.imread(\"image.jpg\")\n",
        "center=(int(img.shape[1]/2),int(img.shape[0]/2))\n",
        "cv.circle(img,center,50,(255,0,0))\n",
        "cv.rectangle(img,((img.shape[1]-100),(img.shape[0]-50)),(img.shape[1],img.shape[0]),(0,255,0),thickness=cv.FILLED)\n",
        "cv.imshow(\"shapes_drawn.jpg\",img)\n",
        "cv.waitKey(0)"
      ],
      "metadata": {
        "id": "py_dNtukAs14"
      },
      "execution_count": null,
      "outputs": []
    },
    {
      "cell_type": "markdown",
      "source": [
        "Image Color Space Conversion\n",
        "\n",
        "Write a Python script to:\n",
        "    Read an image named image.jpg.\n",
        "    Convert the image from BGR to HSV color space.\n",
        "    Save the result as hsv_image.jpg."
      ],
      "metadata": {
        "id": "VATqeumcAt3a"
      }
    },
    {
      "cell_type": "code",
      "source": [
        "# Write your code here.\n",
        "img=cv.imread(\"image.jpg\")\n",
        "hello=cv.cvtColor(img,cv.COLOR_BGR2HSV)\n",
        "cv.imwrite(\"hsv_image.jpg\",hello)"
      ],
      "metadata": {
        "id": "CMnqcUhRBOy0"
      },
      "execution_count": null,
      "outputs": []
    },
    {
      "cell_type": "markdown",
      "source": [
        "Split Image into Color Channels\n",
        "\n",
        "Write a Python function to split an input image named colorful.jpg into its three color channels (Blue, Green, Red). Save each channel as a separate grayscale image."
      ],
      "metadata": {
        "id": "MZcUXAPZBPIw"
      }
    },
    {
      "cell_type": "code",
      "source": [
        "# Write your code here\n",
        "img=cv.imread(\"colorful.jpg\")\n",
        "img1=img[:,:,0]\n",
        "cv.imwrite(\"BLUE\",img1)\n",
        "img2=img[:,:,1]\n",
        "cv.imwrite(\"GREEN\",img2)\n",
        "img3=img[:,:,2]\n",
        "cv.imwrite(\"RED\",img3)"
      ],
      "metadata": {
        "id": "om_y1DT7BQA2"
      },
      "execution_count": null,
      "outputs": []
    },
    {
      "cell_type": "code",
      "source": [],
      "metadata": {
        "id": "kBXegGVlBiw7"
      },
      "execution_count": null,
      "outputs": []
    },
    {
      "cell_type": "markdown",
      "source": [
        "Feel free to reach out to us."
      ],
      "metadata": {
        "id": "oEqKIeoGBjxb"
      }
    }
  ]
}