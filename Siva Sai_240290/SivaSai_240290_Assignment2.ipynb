{
 "cells": [
  {
   "cell_type": "markdown",
   "metadata": {
    "id": "5mTHZEqh-cdR"
   },
   "source": [
    "Grayscale Conversion\n",
    "\n",
    "Write a Python script to read an image named image.jpg, convert it to grayscale, and save the result as output_gray.jpg."
   ]
  },
  {
   "cell_type": "code",
   "execution_count": 11,
   "metadata": {
    "id": "MaPflrkW-Zto"
   },
   "outputs": [
    {
     "data": {
      "text/plain": [
       "True"
      ]
     },
     "execution_count": 11,
     "metadata": {},
     "output_type": "execute_result"
    }
   ],
   "source": [
    "# Write your code here.\n",
    "import cv2\n",
    "image = cv2.imread(\"C:/food101/frog.jpeg\")\n",
    "img_gray = cv2.cvtColor(image , cv2.COLOR_BGR2GRAY)\n",
    "cv2.imwrite('./output_gray.jpg',img_gray)"
   ]
  },
  {
   "cell_type": "markdown",
   "metadata": {
    "id": "XKHxTSHk-m_O"
   },
   "source": [
    "\n",
    "Grayscale Conversion.\n",
    "\n",
    "Write a Python script to read an image named image.jpg, convert it to grayscale, and save the result as output_gray.jpg."
   ]
  },
  {
   "cell_type": "code",
   "execution_count": 12,
   "metadata": {
    "id": "Zb2sLaXp-11r"
   },
   "outputs": [
    {
     "data": {
      "text/plain": [
       "True"
      ]
     },
     "execution_count": 12,
     "metadata": {},
     "output_type": "execute_result"
    }
   ],
   "source": [
    "# Write your code here.\n",
    "import cv2\n",
    "image = cv2.imread(\"C:/food101/frog.jpeg\")\n",
    "img_gray = cv2.cvtColor(image , cv2.COLOR_BGR2GRAY)\n",
    "cv2.imwrite('./output_gray.jpg',img_gray)"
   ]
  },
  {
   "cell_type": "markdown",
   "metadata": {
    "id": "x8VlxABO-2A9"
   },
   "source": [
    "Capture and Save Webcam Frames.\n",
    "\n",
    "Write a Python script using cv2.VideoCapture() to:\n",
    "1. Continuously capture video frames from your webcam.\n",
    "\n",
    "2. Display each frame in a window.\n",
    "\n",
    "3. Save every 30th frame as an image in a folder called frames."
   ]
  },
  {
   "cell_type": "code",
   "execution_count": 13,
   "metadata": {
    "id": "ex9AgLXS_GN8"
   },
   "outputs": [],
   "source": [
    " # Write your code here.\n",
    "import cv2\n",
    "import os\n",
    "img = cv2.VideoCapture(0)\n",
    "count = 0\n",
    "os.makedirs('./frames',exist_ok=True)\n",
    "while True:\n",
    "    ret , frame = img.read()\n",
    "    if not ret:\n",
    "        break\n",
    "    cv2.imshow('frames',frame)\n",
    "    if count%30 == 0 :\n",
    "        cv2.imwrite('./frames/img'+str(count)+'.jpg',frame)\n",
    "    count += 1\n",
    "    if cv2.waitKey(10) & 0xFF == ord('q'):\n",
    "        break\n",
    "img.release()\n",
    "cv2.destroyAllWindows()"
   ]
  },
  {
   "cell_type": "markdown",
   "metadata": {
    "id": "2TLPG4qL_Gan"
   },
   "source": [
    "Write a Python script to perform the following tasks:\n",
    "\n",
    "1. Rotate an image named image.jpg by 90 degrees clockwise and save the result as rotated_image.jpg.\n",
    "\n",
    "\n",
    "2. Crop a central 200x200 region from the same image (original size is 800x600 pixels) and save it as cropped_image.jpg."
   ]
  },
  {
   "cell_type": "code",
   "execution_count": 14,
   "metadata": {
    "id": "xrumakIS_18v"
   },
   "outputs": [
    {
     "data": {
      "text/plain": [
       "True"
      ]
     },
     "execution_count": 14,
     "metadata": {},
     "output_type": "execute_result"
    }
   ],
   "source": [
    " # Write your code here.\n",
    "import cv2\n",
    "#Rotating img by 90\n",
    "img = cv2.imread(\"C:/food101/frog.jpeg\")\n",
    "width = img.shape[1]\n",
    "height = img.shape[0]\n",
    "center = (width//2,height//2)\n",
    "angle = -90\n",
    "dimensions = (height,width)\n",
    "rotation = cv2.getRotationMatrix2D(center,angle,1.0)\n",
    "output_img =  cv2.warpAffine(img,rotation,dimensions)\n",
    "cv2.imwrite('./rotated_img.jpg',output_img)\n",
    "#Resizzing to 800*600\n",
    "resized_img = cv2.resize(img,(800,600))\n",
    "#Cropping img\n",
    "new_img = img[(width//2)-100:(width//2)+100,(height//2)-100:(height//2)+100]\n",
    "cv2.imwrite('cropped_img.jpg',new_img)"
   ]
  },
  {
   "cell_type": "markdown",
   "metadata": {
    "id": "vWzqg01C_2G4"
   },
   "source": [
    "Canny Edge Detection in Video\n",
    "\n",
    "Write a Python program to:\n",
    "\n",
    "Capture video frames continuously for 10 seconds.\n",
    "\n",
    "Apply the Canny edge detection algorithm to each frame.\n",
    "\n",
    "Display the original frame and its edges side by side in a single window.\n",
    "\n",
    "Stop capturing when the user presses the 'q' key."
   ]
  },
  {
   "cell_type": "code",
   "execution_count": 15,
   "metadata": {
    "id": "ZW4uyco4ACP2"
   },
   "outputs": [],
   "source": [
    " # Write your code here.\n",
    "import cv2\n",
    "import time\n",
    "import numpy as np\n",
    "vid_frame = cv2.VideoCapture(0)\n",
    "capture_time = 10\n",
    "start_time = time.time()\n",
    "while True:\n",
    "    ret , frames = vid_frame.read()\n",
    "    if not ret:\n",
    "        break\n",
    "    gray_frame = cv2.cvtColor(frames,cv2.COLOR_BGR2GRAY)\n",
    "    resized_frame = cv2.resize(gray_frame,(640,480))\n",
    "    canny_edges = cv2.Canny(resized_frame,100,255)\n",
    "    resized_edge = cv2.resize(canny_edges,(640,480))\n",
    "    combined = np.hstack((resized_frame,resized_edge))\n",
    "    cv2.imshow('vid',combined)\n",
    "    if cv2.waitKey(10) & 0xFF == ord('q'):\n",
    "        break\n",
    "    elif time.time()-start_time > capture_time:\n",
    "        break \n",
    "vid_frame.release()\n",
    "cv2.destroyAllWindows()   "
   ]
  },
  {
   "cell_type": "markdown",
   "metadata": {
    "id": "X3lImf4FAC4B"
   },
   "source": [
    "Gaussian Blurring\n",
    "\n",
    "Write a Python script to Read an image named image.jpg Apply a Gaussian blur with a kernel size of 5x5 Save the blurred image as gaussian_blur.jpg."
   ]
  },
  {
   "cell_type": "code",
   "execution_count": 16,
   "metadata": {
    "id": "xC9VQ6_kAapt"
   },
   "outputs": [
    {
     "data": {
      "text/plain": [
       "True"
      ]
     },
     "execution_count": 16,
     "metadata": {},
     "output_type": "execute_result"
    }
   ],
   "source": [
    " # Write your code here.\n",
    "img = cv2.imread(\"C:/food101/frog.jpeg\")\n",
    "blur_img = cv2.GaussianBlur(img,(5,5),cv2.BORDER_DEFAULT)\n",
    "cv2.imwrite('./gaussian_blur.jpg',blur_img)"
   ]
  },
  {
   "cell_type": "markdown",
   "metadata": {
    "id": "BQpzAKfPAa9C"
   },
   "source": [
    "Draw Shapes on Images\n",
    "\n",
    "Write a Python script to:\n",
    "    Read an image named image.jpg.\n",
    "    Draw the following on the image:\n",
    "        A blue circle with a radius of 50 pixels at the center.\n",
    "        A green rectangle of size 100x50 pixels in the bottom-right corner.\n",
    "    Save the modified image as shapes_drawn.jpg."
   ]
  },
  {
   "cell_type": "code",
   "execution_count": 17,
   "metadata": {
    "id": "py_dNtukAs14"
   },
   "outputs": [
    {
     "data": {
      "text/plain": [
       "True"
      ]
     },
     "execution_count": 17,
     "metadata": {},
     "output_type": "execute_result"
    }
   ],
   "source": [
    "# Write your code here.\n",
    "import cv2\n",
    "import numpy as np\n",
    "img = cv2.imread(\"C:/food101/frog.jpeg\")\n",
    "resized_img = cv2.resize(img , (640,480))#resized for my convenience\n",
    "circle = cv2.circle(resized_img,(resized_img.shape[1]//2,resized_img.shape[0]//2),50,(255,0,0),-1)\n",
    "rectangle = cv2.rectangle(resized_img,(resized_img.shape[1]-100,resized_img.shape[0]-50),(resized_img.shape[1],resized_img.shape[0]),(0,255,0),-1)\n",
    "cv2.imwrite('./shapes_drawn.jpg',resized_img)"
   ]
  },
  {
   "cell_type": "markdown",
   "metadata": {
    "id": "VATqeumcAt3a"
   },
   "source": [
    "Image Color Space Conversion\n",
    "\n",
    "Write a Python script to:\n",
    "    Read an image named image.jpg.\n",
    "    Convert the image from BGR to HSV color space.\n",
    "    Save the result as hsv_image.jpg."
   ]
  },
  {
   "cell_type": "code",
   "execution_count": 18,
   "metadata": {
    "id": "CMnqcUhRBOy0"
   },
   "outputs": [
    {
     "data": {
      "text/plain": [
       "True"
      ]
     },
     "execution_count": 18,
     "metadata": {},
     "output_type": "execute_result"
    }
   ],
   "source": [
    "# Write your code here.\n",
    "img = cv2.imread(\"C:/food101/frog.jpeg\")\n",
    "HSV_img = cv2.cvtColor(img,cv2.COLOR_BGR2HSV)\n",
    "cv2.imwrite('hsv_image.jpg',HSV_img)"
   ]
  },
  {
   "cell_type": "markdown",
   "metadata": {
    "id": "MZcUXAPZBPIw"
   },
   "source": [
    "Split Image into Color Channels\n",
    "\n",
    "Write a Python function to split an input image named colorful.jpg into its three color channels (Blue, Green, Red). Save each channel as a separate grayscale image."
   ]
  },
  {
   "cell_type": "code",
   "execution_count": 19,
   "metadata": {
    "id": "om_y1DT7BQA2"
   },
   "outputs": [],
   "source": [
    "# Write your code here\n",
    "img = cv2.imread(\"C:/food101/frog.jpeg\")\n",
    "blue_img = img[:,:,0]\n",
    "green_img = img[:,:,1]\n",
    "red_img = img[:,:,2]"
   ]
  },
  {
   "cell_type": "code",
   "execution_count": 20,
   "metadata": {
    "id": "kBXegGVlBiw7"
   },
   "outputs": [
    {
     "data": {
      "text/plain": [
       "True"
      ]
     },
     "execution_count": 20,
     "metadata": {},
     "output_type": "execute_result"
    }
   ],
   "source": [
    "cv2.imwrite('./blue_img.jpg',blue_img)\n",
    "cv2.imwrite('./green_img.jpg',green_img)\n",
    "cv2.imwrite('./red_img.jpg',red_img)"
   ]
  },
  {
   "cell_type": "markdown",
   "metadata": {
    "id": "oEqKIeoGBjxb"
   },
   "source": [
    "Feel free to reach out to us."
   ]
  }
 ],
 "metadata": {
  "colab": {
   "authorship_tag": "ABX9TyMbfVC6cAWZFk9Wi7M9xCAC",
   "provenance": []
  },
  "kernelspec": {
   "display_name": "Python(food101)",
   "language": "python",
   "name": "food101"
  },
  "language_info": {
   "codemirror_mode": {
    "name": "ipython",
    "version": 3
   },
   "file_extension": ".py",
   "mimetype": "text/x-python",
   "name": "python",
   "nbconvert_exporter": "python",
   "pygments_lexer": "ipython3",
   "version": "3.13.0"
  }
 },
 "nbformat": 4,
 "nbformat_minor": 0
}
