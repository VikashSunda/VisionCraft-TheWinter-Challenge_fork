{
 "cells": [
  {
   "cell_type": "markdown",
   "metadata": {
    "id": "5mTHZEqh-cdR"
   },
   "source": [
    "Grayscale Conversion\n",
    "\n",
    "Write a Python script to read an image named image.jpg, convert it to grayscale, and save the result as output_gray.jpg."
   ]
  },
  {
   "cell_type": "code",
   "execution_count": null,
   "metadata": {
    "id": "MaPflrkW-Zto"
   },
   "outputs": [],
   "source": [
    "import cv2 as cv\n",
    "import numpy as np\n",
    "import os\n",
    "\n",
    "img = cv.imread(\"Image.jpg\")\n",
    "output_gray = cv.cvtColor(img,cv.COLOR_BGR2GRAY)\n",
    "cv.imshow(\"output_gray.jpg\",output_gray)\n",
    "cv.waitKey(0)"
   ]
  },
  {
   "cell_type": "markdown",
   "metadata": {
    "id": "x8VlxABO-2A9"
   },
   "source": [
    "Capture and Save Webcam Frames.\n",
    "\n",
    "Write a Python script using cv2.VideoCapture() to:\n",
    "1. Continuously capture video frames from your webcam.\n",
    "\n",
    "2. Display each frame in a window.\n",
    "\n",
    "3. Save every 30th frame as an image in a folder called frames."
   ]
  },
  {
   "cell_type": "code",
   "execution_count": 26,
   "metadata": {
    "id": "ex9AgLXS_GN8"
   },
   "outputs": [],
   "source": [
    "capture = cv.VideoCapture(0)\n",
    "frameCount = 1\n",
    "\n",
    "if not os.path.exists(\"Frames\"):\n",
    "    os.makedirs(\"Frames\")\n",
    "    \n",
    "while True:\n",
    "    isTrue, frame = capture.read()\n",
    "    \n",
    "    if frameCount%30 == 0:\n",
    "        cv.imwrite(f\"Frames/Frame {frameCount}.jpg\",frame)\n",
    "    cv.imshow(\"FRAMES\",frame)\n",
    "    frameCount += 1\n",
    "    if cv.waitKey(20) & 0xFF == ord('q'):\n",
    "        break\n",
    "    \n",
    "\n",
    "cv.destroyAllWindows()\n",
    "capture.release()"
   ]
  },
  {
   "cell_type": "markdown",
   "metadata": {
    "id": "2TLPG4qL_Gan"
   },
   "source": [
    "Write a Python script to perform the following tasks:\n",
    "\n",
    "1. Rotate an image named image.jpg by 90 degrees clockwise and save the result as rotated_image.jpg.\n",
    "\n",
    "\n",
    "2. Crop a central 200x200 region from the same image (original size is 800x600 pixels) and save it as cropped_image.jpg."
   ]
  },
  {
   "cell_type": "code",
   "execution_count": null,
   "metadata": {
    "id": "xrumakIS_18v"
   },
   "outputs": [],
   "source": [
    "rotated_image = cv.rotate(img,cv.ROTATE_90_CLOCKWISE)\n",
    "cv.imwrite(\"rotated_image.jpg\",rotated_image)\n",
    "\n",
    "cropped_image = rotated_image[300:500 , 200:400]\n",
    "cv.imwrite(\"cropped_image.jpg\",cropped_image)\n",
    "\n",
    "# cv.imshow('rotated_image',rotated_image)\n",
    "# cv.imshow('cropped_image',cropped_image)\n",
    "# cv.waitKey(0)"
   ]
  },
  {
   "cell_type": "markdown",
   "metadata": {
    "id": "vWzqg01C_2G4"
   },
   "source": [
    "Canny Edge Detection in Video\n",
    "\n",
    "Write a Python program to:\n",
    "\n",
    "Capture video frames continuously for 10 seconds.\n",
    "\n",
    "Apply the Canny edge detection algorithm to each frame.\n",
    "\n",
    "Display the original frame and its edges side by side in a single window.\n",
    "\n",
    "Stop capturing when the user presses the 'q' key."
   ]
  },
  {
   "cell_type": "code",
   "execution_count": 28,
   "metadata": {
    "id": "ZW4uyco4ACP2"
   },
   "outputs": [],
   "source": [
    "import time\n",
    "\n",
    "video = cv.VideoCapture(0)\n",
    "\n",
    "start_time = time.time()\n",
    "while True :\n",
    "    isTrue , frame = video.read()\n",
    "    edges = cv.Canny(frame,125,175)\n",
    "    edges_recolor = cv.cvtColor(edges, cv.COLOR_GRAY2BGR)\n",
    "    concatenated = np.concatenate((frame,edges_recolor))\n",
    "    time_elapsed = time.time() - start_time\n",
    "    if time_elapsed > 10 :\n",
    "        break\n",
    "    cv.imshow(\"Video\",concatenated)\n",
    "    if cv.waitKey(20) & 0xFF==ord('q'):\n",
    "        break\n",
    "video.release()\n",
    "cv.destroyAllWindows()"
   ]
  },
  {
   "cell_type": "markdown",
   "metadata": {
    "id": "X3lImf4FAC4B"
   },
   "source": [
    "Gaussian Blurring\n",
    "\n",
    "Write a Python script to Read an image named image.jpg Apply a Gaussian blur with a kernel size of 5x5 Save the blurred image as gaussian_blur.jpg."
   ]
  },
  {
   "cell_type": "code",
   "execution_count": null,
   "metadata": {
    "id": "xC9VQ6_kAapt"
   },
   "outputs": [],
   "source": [
    "gaussian_blur = cv.GaussianBlur(img,(5,5),cv.BORDER_DEFAULT)\n",
    "cv.imwrite('gaussian_blur.jpg',gaussian_blur)\n"
   ]
  },
  {
   "cell_type": "markdown",
   "metadata": {
    "id": "BQpzAKfPAa9C"
   },
   "source": [
    "Draw Shapes on Images\n",
    "\n",
    "Write a Python script to:\n",
    "    Read an image named image.jpg.\n",
    "    Draw the following on the image:\n",
    "        A blue circle with a radius of 50 pixels at the center.\n",
    "        A green rectangle of size 100x50 pixels in the bottom-right corner.\n",
    "    Save the modified image as shapes_drawn.jpg."
   ]
  },
  {
   "cell_type": "code",
   "execution_count": null,
   "metadata": {
    "id": "py_dNtukAs14"
   },
   "outputs": [],
   "source": [
    "cv.circle(img, (img.shape[1]//2,img.shape[0]//2),50,(255,0,0),thickness= -1)\n",
    "cv.rectangle(img,(img.shape[1]-100, img.shape[0]-50),(img.shape[1],img.shape[0]),(0,255,0),thickness=-1)\n",
    "cv.imwrite('shapes_drawn.jpg',img)\n"
   ]
  },
  {
   "cell_type": "markdown",
   "metadata": {
    "id": "VATqeumcAt3a"
   },
   "source": [
    "Image Color Space Conversion\n",
    "\n",
    "Write a Python script to:\n",
    "    Read an image named image.jpg.\n",
    "    Convert the image from BGR to HSV color space.\n",
    "    Save the result as hsv_image.jpg."
   ]
  },
  {
   "cell_type": "code",
   "execution_count": null,
   "metadata": {
    "id": "CMnqcUhRBOy0"
   },
   "outputs": [],
   "source": [
    "hsv_img = cv.cvtColor(img,cv.COLOR_BGR2HSV)\n",
    "cv.imwrite('hsv_image.jpg',hsv_img)"
   ]
  },
  {
   "cell_type": "markdown",
   "metadata": {
    "id": "MZcUXAPZBPIw"
   },
   "source": [
    "Split Image into Color Channels\n",
    "\n",
    "Write a Python function to split an input image named colorful.jpg into its three color channels (Blue, Green, Red). Save each channel as a separate grayscale image."
   ]
  },
  {
   "cell_type": "code",
   "execution_count": null,
   "metadata": {
    "id": "om_y1DT7BQA2"
   },
   "outputs": [],
   "source": [
    "B,G,R = cv.split(img)\n",
    "cv.imwrite('blue_channel.jpg',B)\n",
    "cv.imwrite('green_channel.jpg',G)\n",
    "cv.imwrite('red_channel.jpg',R)\n"
   ]
  },
  {
   "cell_type": "markdown",
   "metadata": {
    "id": "oEqKIeoGBjxb"
   },
   "source": [
    "Feel free to reach out to us."
   ]
  }
 ],
 "metadata": {
  "colab": {
   "authorship_tag": "ABX9TyMbfVC6cAWZFk9Wi7M9xCAC",
   "provenance": []
  },
  "kernelspec": {
   "display_name": "Python 3",
   "name": "python3"
  },
  "language_info": {
   "codemirror_mode": {
    "name": "ipython",
    "version": 3
   },
   "file_extension": ".py",
   "mimetype": "text/x-python",
   "name": "python",
   "nbconvert_exporter": "python",
   "pygments_lexer": "ipython3",
   "version": "3.12.5"
  }
 },
 "nbformat": 4,
 "nbformat_minor": 0
}
