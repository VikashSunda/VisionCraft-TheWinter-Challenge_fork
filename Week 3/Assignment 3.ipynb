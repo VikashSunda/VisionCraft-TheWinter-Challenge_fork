{
  "nbformat": 4,
  "nbformat_minor": 0,
  "metadata": {
    "colab": {
      "provenance": []
    },
    "kernelspec": {
      "name": "python3",
      "display_name": "Python 3"
    },
    "language_info": {
      "name": "python"
    }
  },
  "cells": [
    {
      "cell_type": "markdown",
      "source": [
        "### Implement Edge Detection\n",
        "\n",
        "Write a Python function using OpenCV that takes an image file path as input, applies Canny edge detection on the image, and displays the original and edge-detected images side by side."
      ],
      "metadata": {
        "id": "93XQHTufB3_O"
      }
    },
    {
      "cell_type": "code",
      "execution_count": null,
      "metadata": {
        "id": "lVSmMDmk_s1R"
      },
      "outputs": [],
      "source": [
        "# Write Your code here."
      ]
    },
    {
      "cell_type": "markdown",
      "source": [
        "### Face and Eye Detection\n",
        "\n",
        "Create a function that detects faces and eyes in a given image using Haar cascades in OpenCV. The function should draw rectangles around detected faces and eyes and display the output image."
      ],
      "metadata": {
        "id": "vRzoOxEvCPyl"
      }
    },
    {
      "cell_type": "code",
      "source": [
        "# Write Your code here."
      ],
      "metadata": {
        "id": "e4irktxYCQKJ"
      },
      "execution_count": null,
      "outputs": []
    },
    {
      "cell_type": "markdown",
      "source": [
        "###Image Cropping Based on Facial Features\n",
        "\n",
        "Write a function that takes an image path as input and detects faces. If exactly one face is detected, return the cropped image of the face. Use Haar cascades for face detection."
      ],
      "metadata": {
        "id": "h59b-BnvCbWe"
      }
    },
    {
      "cell_type": "code",
      "source": [
        "# Write Your code here."
      ],
      "metadata": {
        "id": "sukHNd-sCbHe"
      },
      "execution_count": null,
      "outputs": []
    },
    {
      "cell_type": "markdown",
      "source": [
        "### Feature Matching with ORB\n",
        "Create a Python script that uses ORB to detect and match features between two images. The script should display the matched keypoints on the output image."
      ],
      "metadata": {
        "id": "6zeYFj9nCnqX"
      }
    },
    {
      "cell_type": "code",
      "source": [
        "# Write Your code here."
      ],
      "metadata": {
        "id": "qpczpHxCCr74"
      },
      "execution_count": null,
      "outputs": []
    },
    {
      "cell_type": "markdown",
      "source": [
        "### Applying Gaussian Blur for Noise Reduction\n",
        "Write a function that applies a Gaussian blur to an image to reduce noise and displays both the original and blurred images."
      ],
      "metadata": {
        "id": "3sUEn0RXCsiB"
      }
    },
    {
      "cell_type": "code",
      "source": [
        "# Write Your code here."
      ],
      "metadata": {
        "id": "3_lKp3bICzdl"
      },
      "execution_count": null,
      "outputs": []
    },
    {
      "cell_type": "markdown",
      "source": [
        "### Pyramid Transform for Image Scaling\n",
        "Create a function that creates a pyramid of images (both up and down) for a given image and displays the results."
      ],
      "metadata": {
        "id": "fidnIKLWCzCx"
      }
    },
    {
      "cell_type": "code",
      "source": [
        "# Write Your code here."
      ],
      "metadata": {
        "id": "ABndA3roC5fV"
      },
      "execution_count": null,
      "outputs": []
    },
    {
      "cell_type": "markdown",
      "source": [
        "### Implement Harris Corner Detection in Python\n",
        "Write a Python function using OpenCV that takes an image file as input and applies the Harris Corner Detection algorithm. Your function should display the original image with the detected corners marked. Include parameters to specify the block size, ksize, and free parameter for flexibility."
      ],
      "metadata": {
        "id": "PHlKUjccC5La"
      }
    },
    {
      "cell_type": "code",
      "source": [
        "# Write Your code here."
      ],
      "metadata": {
        "id": "beKkD_y0C7Ke"
      },
      "execution_count": null,
      "outputs": []
    },
    {
      "cell_type": "markdown",
      "source": [
        "### SIFT Keypoint Detection and Description\n",
        "Create a function that reads an image, converts it to grayscale, and then applies the SIFT algorithm to detect keypoints and compute descriptors. Ensure the detected keypoints are visualized on the original image."
      ],
      "metadata": {
        "id": "46_GNSP5DE-Q"
      }
    },
    {
      "cell_type": "code",
      "source": [
        "# Write Your code here."
      ],
      "metadata": {
        "id": "SNml8psQDJcb"
      },
      "execution_count": null,
      "outputs": []
    },
    {
      "cell_type": "markdown",
      "source": [
        "### Feature Matching using ORB\n",
        "Develop a Python script that matches features between two images using the ORB algorithm. The script should display the matched features between the two images with lines connecting corresponding keypoints."
      ],
      "metadata": {
        "id": "E9Aa7newDJxY"
      }
    },
    {
      "cell_type": "code",
      "source": [
        "# Write Your code here."
      ],
      "metadata": {
        "id": "pSFtPxbWDRFz"
      },
      "execution_count": null,
      "outputs": []
    },
    {
      "cell_type": "markdown",
      "source": [
        "### Implement FAST Corner Detection\n",
        "Write a Python function to implement the FAST corner detection algorithm. The function should accept an image and return the image with detected keypoints highlighted."
      ],
      "metadata": {
        "id": "JyuM-UuYDRbA"
      }
    },
    {
      "cell_type": "code",
      "source": [
        "# Write Your code here."
      ],
      "metadata": {
        "id": "4HgLq8f_DTnO"
      },
      "execution_count": null,
      "outputs": []
    },
    {
      "cell_type": "markdown",
      "source": [
        "Tough questions"
      ],
      "metadata": {
        "id": "MOJ-25wrDpiC"
      }
    },
    {
      "cell_type": "markdown",
      "source": [
        "### Custom Canny Edge Detector Implementation\n",
        "Implement your own version of the Canny edge detection algorithm from scratch using Python (without using OpenCV functions). Your implementation should include:\n",
        "\n",
        "Gaussian filtering for noise reduction.\n",
        "Calculation of gradient magnitude and direction.\n",
        "Non-maximum suppression.\n",
        "Hysteresis thresholding. Your function should take an image as input and return an image with detected edges."
      ],
      "metadata": {
        "id": "tovusHoWDT6G"
      }
    },
    {
      "cell_type": "code",
      "source": [
        "# Write Your code here."
      ],
      "metadata": {
        "id": "ICcFqoUyDr_b"
      },
      "execution_count": null,
      "outputs": []
    },
    {
      "cell_type": "markdown",
      "source": [
        "### Multi-Scale Feature Detection\n",
        "Create a function that applies multi-scale feature detection using the Laplacian of Gaussian (LoG) method. This function should take an image and a list of sigma values as input, and return an image or set of images showing detected features at the different scales."
      ],
      "metadata": {
        "id": "yIkqyboUDsWO"
      }
    },
    {
      "cell_type": "code",
      "source": [
        "# Write Your code here."
      ],
      "metadata": {
        "id": "oZ3prYBsDwPy"
      },
      "execution_count": null,
      "outputs": []
    },
    {
      "cell_type": "markdown",
      "source": [
        "## Bonus Question\n",
        "\n",
        "Do your Research on how can we make a 3d model from the Refined frames.  "
      ],
      "metadata": {
        "id": "FCpFBjRSD8yh"
      }
    },
    {
      "cell_type": "code",
      "source": [
        "### Write your answer here."
      ],
      "metadata": {
        "id": "oVr5vt5FEQSr"
      },
      "execution_count": null,
      "outputs": []
    }
  ]
}