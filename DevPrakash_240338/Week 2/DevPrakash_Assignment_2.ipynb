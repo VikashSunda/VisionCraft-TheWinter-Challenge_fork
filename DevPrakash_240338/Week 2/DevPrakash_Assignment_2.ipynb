{
  "cells": [
    {
      "cell_type": "markdown",
      "metadata": {
        "id": "5mTHZEqh-cdR"
      },
      "source": [
        "Grayscale Conversion\n",
        "\n",
        "Write a Python script to read an image named image.jpg, convert it to grayscale, and save the result as output_gray.jpg."
      ]
    },
    {
      "cell_type": "code",
      "execution_count": 2,
      "metadata": {
        "id": "MaPflrkW-Zto"
      },
      "outputs": [],
      "source": [
        "import cv2 as cv\n",
        "import time"
      ]
    },
    {
      "cell_type": "markdown",
      "metadata": {
        "id": "XKHxTSHk-m_O"
      },
      "source": [
        "\n",
        "Grayscale Conversion.\n",
        "\n",
        "Write a Python script to read an image named image.jpg, convert it to grayscale, and save the result as output_gray.jpg."
      ]
    },
    {
      "cell_type": "code",
      "execution_count": 4,
      "metadata": {
        "colab": {
          "base_uri": "https://localhost:8080/",
          "height": 439
        },
        "id": "Zb2sLaXp-11r",
        "outputId": "063f1dca-ddd4-4cbe-d3c3-c81840fdeab3"
      },
      "outputs": [
        {
          "data": {
            "text/plain": [
              "-1"
            ]
          },
          "execution_count": 4,
          "metadata": {},
          "output_type": "execute_result"
        }
      ],
      "source": [
        "image = cv.imread('image.jpg')\n",
        "output_gray = cv.cvtColor(image, cv.COLOR_BGR2GRAY)\n",
        "cv.imwrite('output_gray.jpg', output_gray)\n",
        "cv.imshow('grayscale', output_gray)\n",
        "cv.waitKey(0)"
      ]
    },
    {
      "cell_type": "markdown",
      "metadata": {
        "id": "x8VlxABO-2A9"
      },
      "source": [
        "Capture and Save Webcam Frames.\n",
        "\n",
        "Write a Python script using cv2.VideoCapture() to:\n",
        "1. Continuously capture video frames from your webcam.\n",
        "\n",
        "2. Display each frame in a window.\n",
        "\n",
        "3. Save every 30th frame as an image in a folder called frames."
      ]
    },
    {
      "cell_type": "code",
      "execution_count": 5,
      "metadata": {
        "id": "ex9AgLXS_GN8"
      },
      "outputs": [],
      "source": [
        "cap = cv.VideoCapture(0)\n",
        "count =0\n",
        "while True:\n",
        "    isTrue, frame = cap.read()\n",
        "    cv.imshow('frame',frame)\n",
        "    count+=1\n",
        "    if count%30 == 0:\n",
        "        cv.imwrite('frames/%d.jpg' % count,frame)\n",
        "    if cv.waitKey(1) & 0xFF == ord('q'):\n",
        "        break\n",
        "cap.release()\n",
        "cv.destroyAllWindows()"
      ]
    },
    {
      "cell_type": "markdown",
      "metadata": {
        "id": "2TLPG4qL_Gan"
      },
      "source": [
        "Write a Python script to perform the following tasks:\n",
        "\n",
        "1. Rotate an image named image.jpg by 90 degrees clockwise and save the result as rotated_image.jpg.\n",
        "\n",
        "\n",
        "2. Crop a central 200x200 region from the same image (original size is 800x600 pixels) and save it as cropped_image.jpg."
      ]
    },
    {
      "cell_type": "code",
      "execution_count": 6,
      "metadata": {
        "id": "xrumakIS_18v"
      },
      "outputs": [
        {
          "data": {
            "text/plain": [
              "True"
            ]
          },
          "execution_count": 6,
          "metadata": {},
          "output_type": "execute_result"
        }
      ],
      "source": [
        "#Rotated Image\n",
        "rotated_image = cv.rotate(image, cv.ROTATE_90_CLOCKWISE)\n",
        "cv.imwrite('rotated_image.jpg', rotated_image)\n",
        "\n",
        "#Cropped Image\n",
        "height, width, _ = image.shape\n",
        "crop_width, crop_height = 200, 200\n",
        "crop_x1 = width // 2 - crop_width // 2\n",
        "crop_y1 = height // 2 - crop_height // 2\n",
        "crop_x2 = crop_x1 + 200\n",
        "crop_y2 = crop_y1 + 200\n",
        "\n",
        "cropped_image = image[crop_y1:crop_y2, crop_x1:crop_x2]\n",
        "cv.imwrite('cropped_image.jpg', cropped_image)\n"
      ]
    },
    {
      "cell_type": "markdown",
      "metadata": {
        "id": "vWzqg01C_2G4"
      },
      "source": [
        "Canny Edge Detection in Video\n",
        "\n",
        "Write a Python program to:\n",
        "\n",
        "Capture video frames continuously for 10 seconds.\n",
        "\n",
        "Apply the Canny edge detection algorithm to each frame.\n",
        "\n",
        "Display the original frame and its edges side by side in a single window.\n",
        "\n",
        "Stop capturing when the user presses the 'q' key."
      ]
    },
    {
      "cell_type": "code",
      "execution_count": 7,
      "metadata": {
        "id": "ZW4uyco4ACP2"
      },
      "outputs": [],
      "source": [
        "\n",
        "cap = cv.VideoCapture(0)\n",
        "start_time = time.time()\n",
        "\n",
        "while True:\n",
        "    ret, frame = cap.read()\n",
        "    \n",
        "    if not ret:\n",
        "        print(\"Failed to grab frame.\")\n",
        "        break\n",
        "    gray = cv.cvtColor(frame, cv.COLOR_BGR2GRAY) \n",
        "    edges = cv.Canny(gray, 100, 200) \n",
        "    combined_frame = cv.hconcat([frame, cv.cvtColor(edges, cv.COLOR_GRAY2BGR)])\n",
        "    cv.imshow('Original and Edge Detection', combined_frame)\n",
        "    if time.time() - start_time > 10:\n",
        "        break\n",
        "    if cv.waitKey(1) & 0xFF == ord('q'):\n",
        "        break\n",
        "cap.release()\n",
        "cv.destroyAllWindows()"
      ]
    },
    {
      "cell_type": "markdown",
      "metadata": {
        "id": "X3lImf4FAC4B"
      },
      "source": [
        "Gaussian Blurring\n",
        "\n",
        "Write a Python script to Read an image named image.jpg Apply a Gaussian blur with a kernel size of 5x5 Save the blurred image as gaussian_blur.jpg."
      ]
    },
    {
      "cell_type": "code",
      "execution_count": 8,
      "metadata": {
        "id": "xC9VQ6_kAapt"
      },
      "outputs": [
        {
          "data": {
            "text/plain": [
              "-1"
            ]
          },
          "execution_count": 8,
          "metadata": {},
          "output_type": "execute_result"
        }
      ],
      "source": [
        "image = cv.imread('image.jpg')\n",
        "blur = cv.GaussianBlur(image, (5, 5), 0)\n",
        "cv.imwrite('gaussian_blur.jpg', blur)\n",
        "cv.imshow('Blurred Image', blur)\n",
        "cv.waitKey(0)\n"
      ]
    },
    {
      "cell_type": "markdown",
      "metadata": {
        "id": "BQpzAKfPAa9C"
      },
      "source": [
        "Draw Shapes on Images\n",
        "\n",
        "Write a Python script to:\n",
        "    Read an image named image.jpg.\n",
        "    Draw the following on the image:\n",
        "        A blue circle with a radius of 50 pixels at the center.\n",
        "        A green rectangle of size 100x50 pixels in the bottom-right corner.\n",
        "    Save the modified image as shapes_drawn.jpg."
      ]
    },
    {
      "cell_type": "code",
      "execution_count": 9,
      "metadata": {
        "id": "py_dNtukAs14"
      },
      "outputs": [
        {
          "data": {
            "text/plain": [
              "-1"
            ]
          },
          "execution_count": 9,
          "metadata": {},
          "output_type": "execute_result"
        }
      ],
      "source": [
        "height, width, _ = image.shape\n",
        "\n",
        "top_left = (width - 100, height - 50)\n",
        "bottom_right = (width, height)\n",
        "color = (0, 255, 0)  \n",
        "thickness = -1  \n",
        "cv.rectangle(image, top_left, bottom_right, color, thickness)\n",
        "\n",
        "center = (width // 2, height // 2)\n",
        "radius = 50\n",
        "color_circle = (255, 0, 0)  \n",
        "thickness_circle = -1  \n",
        "cv.circle(image, center, radius, color_circle, thickness_circle)\n",
        "\n",
        "cv.imwrite('shapes_drawn.jpg', image)\n",
        "cv.imshow(\"Shapes\", image)\n",
        "cv.waitKey(0)\n"
      ]
    },
    {
      "cell_type": "markdown",
      "metadata": {
        "id": "VATqeumcAt3a"
      },
      "source": [
        "Image Color Space Conversion\n",
        "\n",
        "Write a Python script to:\n",
        "    Read an image named image.jpg.\n",
        "    Convert the image from BGR to HSV color space.\n",
        "    Save the result as hsv_image.jpg."
      ]
    },
    {
      "cell_type": "code",
      "execution_count": 10,
      "metadata": {
        "id": "CMnqcUhRBOy0"
      },
      "outputs": [
        {
          "data": {
            "text/plain": [
              "-1"
            ]
          },
          "execution_count": 10,
          "metadata": {},
          "output_type": "execute_result"
        }
      ],
      "source": [
        "image = cv.imread('image.jpg')\n",
        "hsv = cv.cvtColor(image, cv.COLOR_BGR2HSV)\n",
        "cv.imwrite('hsv_image.jpg', hsv)\n",
        "cv.imshow(\"HSV Converted Image\", hsv)\n",
        "cv.waitKey(0)\n"
      ]
    },
    {
      "cell_type": "markdown",
      "metadata": {
        "id": "MZcUXAPZBPIw"
      },
      "source": [
        "Split Image into Color Channels\n",
        "\n",
        "Write a Python function to split an input image named colorful.jpg into its three color channels (Blue, Green, Red). Save each channel as a separate grayscale image."
      ]
    },
    {
      "cell_type": "code",
      "execution_count": 7,
      "metadata": {
        "id": "om_y1DT7BQA2"
      },
      "outputs": [
        {
          "data": {
            "text/plain": [
              "True"
            ]
          },
          "execution_count": 7,
          "metadata": {},
          "output_type": "execute_result"
        }
      ],
      "source": [
        "image=cv.imread(\"image.jpg\")\n",
        "\n",
        "blue ,green ,red =cv.split(image)\n",
        "cv.imwrite(\"blue.jpg\",blue)\n",
        "cv.imwrite(\"green.jpg\",green)\n",
        "cv.imwrite(\"red.jpg\", red)"
      ]
    },
    {
      "cell_type": "markdown",
      "metadata": {
        "id": "oEqKIeoGBjxb"
      },
      "source": [
        "Feel free to reach out to us."
      ]
    }
  ],
  "metadata": {
    "colab": {
      "provenance": []
    },
    "kernelspec": {
      "display_name": "Python 3",
      "name": "python3"
    },
    "language_info": {
      "codemirror_mode": {
        "name": "ipython",
        "version": 3
      },
      "file_extension": ".py",
      "mimetype": "text/x-python",
      "name": "python",
      "nbconvert_exporter": "python",
      "pygments_lexer": "ipython3",
      "version": "3.12.6"
    }
  },
  "nbformat": 4,
  "nbformat_minor": 0
}
